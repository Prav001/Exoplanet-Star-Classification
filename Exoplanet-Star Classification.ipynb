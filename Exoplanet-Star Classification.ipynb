{
 "cells": [
  {
   "cell_type": "markdown",
   "metadata": {
    "_uuid": "b6b2254965f03e535cb73f1abf3bba4ec5c3cfe4"
   },
   "source": [
    "### Importing libraries"
   ]
  },
  {
   "cell_type": "code",
   "execution_count": 8,
   "metadata": {
    "_cell_guid": "b1076dfc-b9ad-4769-8c92-a6c4dae69d19",
    "_uuid": "8f2839f25d086af736a60e9eeb907d3b93b6e0e5",
    "execution": {
     "iopub.execute_input": "2023-03-23T03:21:16.549259Z",
     "iopub.status.busy": "2023-03-23T03:21:16.548800Z",
     "iopub.status.idle": "2023-03-23T03:21:16.562383Z",
     "shell.execute_reply": "2023-03-23T03:21:16.561728Z",
     "shell.execute_reply.started": "2023-03-23T03:21:16.549216Z"
    }
   },
   "outputs": [],
   "source": [
    "import pandas as pd\n",
    "import numpy as np\n",
    "import matplotlib.pyplot as plt\n",
    "\n",
    "import math\n",
    "import time\n",
    "from pathlib import Path\n",
    "\n",
    "# Modelling\n",
    "from sklearn.ensemble import RandomForestClassifier\n",
    "from sklearn.metrics import accuracy_score, confusion_matrix, precision_score, recall_score\n",
    "from sklearn.model_selection import RandomizedSearchCV\n",
    "from scipy.stats import randint\n",
    "from scipy import ndimage\n",
    "\n",
    "from sklearn.model_selection import train_test_split\n",
    "from sklearn.preprocessing import normalize, StandardScaler, MinMaxScaler\n",
    "from sklearn.impute import SimpleImputer\n",
    "from sklearn.preprocessing import OneHotEncoder"
   ]
  },
  {
   "cell_type": "markdown",
   "metadata": {
    "_uuid": "c17634d1b3ecb3fd7b361d19c8774df26dac4ea2"
   },
   "source": [
    "### Load datasets"
   ]
  },
  {
   "cell_type": "code",
   "execution_count": 3,
   "metadata": {
    "_uuid": "8aef4d6898bf06a2414a3a675a1fa9400f97cbd6",
    "execution": {
     "iopub.execute_input": "2023-03-23T03:21:18.789048Z",
     "iopub.status.busy": "2023-03-23T03:21:18.788675Z",
     "iopub.status.idle": "2023-03-23T03:21:24.295502Z",
     "shell.execute_reply": "2023-03-23T03:21:24.294652Z",
     "shell.execute_reply.started": "2023-03-23T03:21:18.788960Z"
    }
   },
   "outputs": [
    {
     "data": {
      "text/html": [
       "<div>\n",
       "<style scoped>\n",
       "    .dataframe tbody tr th:only-of-type {\n",
       "        vertical-align: middle;\n",
       "    }\n",
       "\n",
       "    .dataframe tbody tr th {\n",
       "        vertical-align: top;\n",
       "    }\n",
       "\n",
       "    .dataframe thead th {\n",
       "        text-align: right;\n",
       "    }\n",
       "</style>\n",
       "<table border=\"1\" class=\"dataframe\">\n",
       "  <thead>\n",
       "    <tr style=\"text-align: right;\">\n",
       "      <th></th>\n",
       "      <th>LABEL</th>\n",
       "      <th>FLUX.1</th>\n",
       "      <th>FLUX.2</th>\n",
       "      <th>FLUX.3</th>\n",
       "      <th>FLUX.4</th>\n",
       "      <th>FLUX.5</th>\n",
       "      <th>FLUX.6</th>\n",
       "      <th>FLUX.7</th>\n",
       "      <th>FLUX.8</th>\n",
       "      <th>FLUX.9</th>\n",
       "      <th>...</th>\n",
       "      <th>FLUX.3188</th>\n",
       "      <th>FLUX.3189</th>\n",
       "      <th>FLUX.3190</th>\n",
       "      <th>FLUX.3191</th>\n",
       "      <th>FLUX.3192</th>\n",
       "      <th>FLUX.3193</th>\n",
       "      <th>FLUX.3194</th>\n",
       "      <th>FLUX.3195</th>\n",
       "      <th>FLUX.3196</th>\n",
       "      <th>FLUX.3197</th>\n",
       "    </tr>\n",
       "  </thead>\n",
       "  <tbody>\n",
       "    <tr>\n",
       "      <th>0</th>\n",
       "      <td>2</td>\n",
       "      <td>93.85</td>\n",
       "      <td>83.81</td>\n",
       "      <td>20.10</td>\n",
       "      <td>-26.98</td>\n",
       "      <td>-39.56</td>\n",
       "      <td>-124.71</td>\n",
       "      <td>-135.18</td>\n",
       "      <td>-96.27</td>\n",
       "      <td>-79.89</td>\n",
       "      <td>...</td>\n",
       "      <td>-78.07</td>\n",
       "      <td>-102.15</td>\n",
       "      <td>-102.15</td>\n",
       "      <td>25.13</td>\n",
       "      <td>48.57</td>\n",
       "      <td>92.54</td>\n",
       "      <td>39.32</td>\n",
       "      <td>61.42</td>\n",
       "      <td>5.08</td>\n",
       "      <td>-39.54</td>\n",
       "    </tr>\n",
       "    <tr>\n",
       "      <th>1</th>\n",
       "      <td>2</td>\n",
       "      <td>-38.88</td>\n",
       "      <td>-33.83</td>\n",
       "      <td>-58.54</td>\n",
       "      <td>-40.09</td>\n",
       "      <td>-79.31</td>\n",
       "      <td>-72.81</td>\n",
       "      <td>-86.55</td>\n",
       "      <td>-85.33</td>\n",
       "      <td>-83.97</td>\n",
       "      <td>...</td>\n",
       "      <td>-3.28</td>\n",
       "      <td>-32.21</td>\n",
       "      <td>-32.21</td>\n",
       "      <td>-24.89</td>\n",
       "      <td>-4.86</td>\n",
       "      <td>0.76</td>\n",
       "      <td>-11.70</td>\n",
       "      <td>6.46</td>\n",
       "      <td>16.00</td>\n",
       "      <td>19.93</td>\n",
       "    </tr>\n",
       "    <tr>\n",
       "      <th>2</th>\n",
       "      <td>2</td>\n",
       "      <td>532.64</td>\n",
       "      <td>535.92</td>\n",
       "      <td>513.73</td>\n",
       "      <td>496.92</td>\n",
       "      <td>456.45</td>\n",
       "      <td>466.00</td>\n",
       "      <td>464.50</td>\n",
       "      <td>486.39</td>\n",
       "      <td>436.56</td>\n",
       "      <td>...</td>\n",
       "      <td>-71.69</td>\n",
       "      <td>13.31</td>\n",
       "      <td>13.31</td>\n",
       "      <td>-29.89</td>\n",
       "      <td>-20.88</td>\n",
       "      <td>5.06</td>\n",
       "      <td>-11.80</td>\n",
       "      <td>-28.91</td>\n",
       "      <td>-70.02</td>\n",
       "      <td>-96.67</td>\n",
       "    </tr>\n",
       "    <tr>\n",
       "      <th>3</th>\n",
       "      <td>2</td>\n",
       "      <td>326.52</td>\n",
       "      <td>347.39</td>\n",
       "      <td>302.35</td>\n",
       "      <td>298.13</td>\n",
       "      <td>317.74</td>\n",
       "      <td>312.70</td>\n",
       "      <td>322.33</td>\n",
       "      <td>311.31</td>\n",
       "      <td>312.42</td>\n",
       "      <td>...</td>\n",
       "      <td>5.71</td>\n",
       "      <td>-3.73</td>\n",
       "      <td>-3.73</td>\n",
       "      <td>30.05</td>\n",
       "      <td>20.03</td>\n",
       "      <td>-12.67</td>\n",
       "      <td>-8.77</td>\n",
       "      <td>-17.31</td>\n",
       "      <td>-17.35</td>\n",
       "      <td>13.98</td>\n",
       "    </tr>\n",
       "    <tr>\n",
       "      <th>4</th>\n",
       "      <td>2</td>\n",
       "      <td>-1107.21</td>\n",
       "      <td>-1112.59</td>\n",
       "      <td>-1118.95</td>\n",
       "      <td>-1095.10</td>\n",
       "      <td>-1057.55</td>\n",
       "      <td>-1034.48</td>\n",
       "      <td>-998.34</td>\n",
       "      <td>-1022.71</td>\n",
       "      <td>-989.57</td>\n",
       "      <td>...</td>\n",
       "      <td>-594.37</td>\n",
       "      <td>-401.66</td>\n",
       "      <td>-401.66</td>\n",
       "      <td>-357.24</td>\n",
       "      <td>-443.76</td>\n",
       "      <td>-438.54</td>\n",
       "      <td>-399.71</td>\n",
       "      <td>-384.65</td>\n",
       "      <td>-411.79</td>\n",
       "      <td>-510.54</td>\n",
       "    </tr>\n",
       "  </tbody>\n",
       "</table>\n",
       "<p>5 rows × 3198 columns</p>\n",
       "</div>"
      ],
      "text/plain": [
       "   LABEL   FLUX.1   FLUX.2   FLUX.3   FLUX.4   FLUX.5   FLUX.6  FLUX.7  \\\n",
       "0      2    93.85    83.81    20.10   -26.98   -39.56  -124.71 -135.18   \n",
       "1      2   -38.88   -33.83   -58.54   -40.09   -79.31   -72.81  -86.55   \n",
       "2      2   532.64   535.92   513.73   496.92   456.45   466.00  464.50   \n",
       "3      2   326.52   347.39   302.35   298.13   317.74   312.70  322.33   \n",
       "4      2 -1107.21 -1112.59 -1118.95 -1095.10 -1057.55 -1034.48 -998.34   \n",
       "\n",
       "    FLUX.8  FLUX.9  ...  FLUX.3188  FLUX.3189  FLUX.3190  FLUX.3191  \\\n",
       "0   -96.27  -79.89  ...     -78.07    -102.15    -102.15      25.13   \n",
       "1   -85.33  -83.97  ...      -3.28     -32.21     -32.21     -24.89   \n",
       "2   486.39  436.56  ...     -71.69      13.31      13.31     -29.89   \n",
       "3   311.31  312.42  ...       5.71      -3.73      -3.73      30.05   \n",
       "4 -1022.71 -989.57  ...    -594.37    -401.66    -401.66    -357.24   \n",
       "\n",
       "   FLUX.3192  FLUX.3193  FLUX.3194  FLUX.3195  FLUX.3196  FLUX.3197  \n",
       "0      48.57      92.54      39.32      61.42       5.08     -39.54  \n",
       "1      -4.86       0.76     -11.70       6.46      16.00      19.93  \n",
       "2     -20.88       5.06     -11.80     -28.91     -70.02     -96.67  \n",
       "3      20.03     -12.67      -8.77     -17.31     -17.35      13.98  \n",
       "4    -443.76    -438.54    -399.71    -384.65    -411.79    -510.54  \n",
       "\n",
       "[5 rows x 3198 columns]"
      ]
     },
     "execution_count": 3,
     "metadata": {},
     "output_type": "execute_result"
    }
   ],
   "source": [
    "'''\n",
    "Original Dataset: \n",
    "https://www.kaggle.com/datasets/keplersmachines/kepler-labelled-time-series-data\n",
    "''' \n",
    "train_dataset_path  = \"./exoTrain.csv\"\n",
    "test_dataset_path = \"./exoTest.csv\"\n",
    "\n",
    "X_full = pd.read_csv(train_dataset_path, encoding = \"ISO-8859-1\")\n",
    "X_test_full = pd.read_csv(test_dataset_path, encoding = \"ISO-8859-1\")\n",
    "\n",
    "X_full.head()"
   ]
  },
  {
   "cell_type": "markdown",
   "metadata": {},
   "source": [
    "1. Number of rows = number of stars \n",
    "2. Each star has a binary label (represented by column LABEL) of 2 or 1. '2' indicate that that the star is confirmed to have at least one exoplanet in orbit.\n",
    "3. Remaining columns (FLUX.1 and so on) represent the recorded flux at given time."
   ]
  },
  {
   "cell_type": "code",
   "execution_count": 4,
   "metadata": {
    "execution": {
     "iopub.execute_input": "2023-03-23T03:21:24.296983Z",
     "iopub.status.busy": "2023-03-23T03:21:24.296730Z",
     "iopub.status.idle": "2023-03-23T03:21:24.675743Z",
     "shell.execute_reply": "2023-03-23T03:21:24.675041Z",
     "shell.execute_reply.started": "2023-03-23T03:21:24.296935Z"
    }
   },
   "outputs": [
    {
     "data": {
      "text/html": [
       "<div>\n",
       "<style scoped>\n",
       "    .dataframe tbody tr th:only-of-type {\n",
       "        vertical-align: middle;\n",
       "    }\n",
       "\n",
       "    .dataframe tbody tr th {\n",
       "        vertical-align: top;\n",
       "    }\n",
       "\n",
       "    .dataframe thead th {\n",
       "        text-align: right;\n",
       "    }\n",
       "</style>\n",
       "<table border=\"1\" class=\"dataframe\">\n",
       "  <thead>\n",
       "    <tr style=\"text-align: right;\">\n",
       "      <th></th>\n",
       "      <th>FLUX.1</th>\n",
       "      <th>FLUX.2</th>\n",
       "      <th>FLUX.3</th>\n",
       "      <th>FLUX.4</th>\n",
       "      <th>FLUX.5</th>\n",
       "      <th>FLUX.6</th>\n",
       "      <th>FLUX.7</th>\n",
       "      <th>FLUX.8</th>\n",
       "      <th>FLUX.9</th>\n",
       "      <th>FLUX.10</th>\n",
       "      <th>...</th>\n",
       "      <th>FLUX.3188</th>\n",
       "      <th>FLUX.3189</th>\n",
       "      <th>FLUX.3190</th>\n",
       "      <th>FLUX.3191</th>\n",
       "      <th>FLUX.3192</th>\n",
       "      <th>FLUX.3193</th>\n",
       "      <th>FLUX.3194</th>\n",
       "      <th>FLUX.3195</th>\n",
       "      <th>FLUX.3196</th>\n",
       "      <th>FLUX.3197</th>\n",
       "    </tr>\n",
       "  </thead>\n",
       "  <tbody>\n",
       "    <tr>\n",
       "      <th>195</th>\n",
       "      <td>-0.24</td>\n",
       "      <td>2.32</td>\n",
       "      <td>0.68</td>\n",
       "      <td>-6.14</td>\n",
       "      <td>2.29</td>\n",
       "      <td>1.70</td>\n",
       "      <td>-11.51</td>\n",
       "      <td>-6.86</td>\n",
       "      <td>0.00</td>\n",
       "      <td>-6.71</td>\n",
       "      <td>...</td>\n",
       "      <td>6.51</td>\n",
       "      <td>9.97</td>\n",
       "      <td>6.07</td>\n",
       "      <td>12.36</td>\n",
       "      <td>3.64</td>\n",
       "      <td>14.68</td>\n",
       "      <td>2.44</td>\n",
       "      <td>18.76</td>\n",
       "      <td>10.61</td>\n",
       "      <td>4.84</td>\n",
       "    </tr>\n",
       "    <tr>\n",
       "      <th>514</th>\n",
       "      <td>-0.71</td>\n",
       "      <td>-5.74</td>\n",
       "      <td>6.91</td>\n",
       "      <td>-15.88</td>\n",
       "      <td>-3.77</td>\n",
       "      <td>-2.17</td>\n",
       "      <td>-2.75</td>\n",
       "      <td>-2.85</td>\n",
       "      <td>4.11</td>\n",
       "      <td>5.25</td>\n",
       "      <td>...</td>\n",
       "      <td>-3.70</td>\n",
       "      <td>-12.51</td>\n",
       "      <td>-13.14</td>\n",
       "      <td>-7.66</td>\n",
       "      <td>1.84</td>\n",
       "      <td>8.72</td>\n",
       "      <td>18.24</td>\n",
       "      <td>22.17</td>\n",
       "      <td>28.28</td>\n",
       "      <td>33.19</td>\n",
       "    </tr>\n",
       "    <tr>\n",
       "      <th>4010</th>\n",
       "      <td>357.43</td>\n",
       "      <td>318.59</td>\n",
       "      <td>313.65</td>\n",
       "      <td>283.61</td>\n",
       "      <td>291.92</td>\n",
       "      <td>278.99</td>\n",
       "      <td>265.67</td>\n",
       "      <td>257.13</td>\n",
       "      <td>234.81</td>\n",
       "      <td>204.40</td>\n",
       "      <td>...</td>\n",
       "      <td>7.97</td>\n",
       "      <td>-6.12</td>\n",
       "      <td>-22.03</td>\n",
       "      <td>-80.83</td>\n",
       "      <td>-87.85</td>\n",
       "      <td>-92.64</td>\n",
       "      <td>87.22</td>\n",
       "      <td>87.86</td>\n",
       "      <td>74.92</td>\n",
       "      <td>42.62</td>\n",
       "    </tr>\n",
       "    <tr>\n",
       "      <th>1011</th>\n",
       "      <td>143.28</td>\n",
       "      <td>153.50</td>\n",
       "      <td>127.39</td>\n",
       "      <td>112.78</td>\n",
       "      <td>105.78</td>\n",
       "      <td>72.22</td>\n",
       "      <td>79.76</td>\n",
       "      <td>23.47</td>\n",
       "      <td>29.87</td>\n",
       "      <td>20.41</td>\n",
       "      <td>...</td>\n",
       "      <td>-7.50</td>\n",
       "      <td>11.83</td>\n",
       "      <td>56.41</td>\n",
       "      <td>129.12</td>\n",
       "      <td>174.59</td>\n",
       "      <td>-35.49</td>\n",
       "      <td>-35.49</td>\n",
       "      <td>-0.50</td>\n",
       "      <td>29.55</td>\n",
       "      <td>84.00</td>\n",
       "    </tr>\n",
       "    <tr>\n",
       "      <th>3955</th>\n",
       "      <td>-13.12</td>\n",
       "      <td>-17.54</td>\n",
       "      <td>-18.51</td>\n",
       "      <td>-8.13</td>\n",
       "      <td>-16.58</td>\n",
       "      <td>-10.05</td>\n",
       "      <td>-6.82</td>\n",
       "      <td>-19.21</td>\n",
       "      <td>-14.31</td>\n",
       "      <td>-6.18</td>\n",
       "      <td>...</td>\n",
       "      <td>-1.74</td>\n",
       "      <td>-1.80</td>\n",
       "      <td>0.68</td>\n",
       "      <td>11.38</td>\n",
       "      <td>-6.46</td>\n",
       "      <td>-2.53</td>\n",
       "      <td>1.24</td>\n",
       "      <td>3.69</td>\n",
       "      <td>2.38</td>\n",
       "      <td>-4.67</td>\n",
       "    </tr>\n",
       "  </tbody>\n",
       "</table>\n",
       "<p>5 rows × 3197 columns</p>\n",
       "</div>"
      ],
      "text/plain": [
       "      FLUX.1  FLUX.2  FLUX.3  FLUX.4  FLUX.5  FLUX.6  FLUX.7  FLUX.8  FLUX.9  \\\n",
       "195    -0.24    2.32    0.68   -6.14    2.29    1.70  -11.51   -6.86    0.00   \n",
       "514    -0.71   -5.74    6.91  -15.88   -3.77   -2.17   -2.75   -2.85    4.11   \n",
       "4010  357.43  318.59  313.65  283.61  291.92  278.99  265.67  257.13  234.81   \n",
       "1011  143.28  153.50  127.39  112.78  105.78   72.22   79.76   23.47   29.87   \n",
       "3955  -13.12  -17.54  -18.51   -8.13  -16.58  -10.05   -6.82  -19.21  -14.31   \n",
       "\n",
       "      FLUX.10  ...  FLUX.3188  FLUX.3189  FLUX.3190  FLUX.3191  FLUX.3192  \\\n",
       "195     -6.71  ...       6.51       9.97       6.07      12.36       3.64   \n",
       "514      5.25  ...      -3.70     -12.51     -13.14      -7.66       1.84   \n",
       "4010   204.40  ...       7.97      -6.12     -22.03     -80.83     -87.85   \n",
       "1011    20.41  ...      -7.50      11.83      56.41     129.12     174.59   \n",
       "3955    -6.18  ...      -1.74      -1.80       0.68      11.38      -6.46   \n",
       "\n",
       "      FLUX.3193  FLUX.3194  FLUX.3195  FLUX.3196  FLUX.3197  \n",
       "195       14.68       2.44      18.76      10.61       4.84  \n",
       "514        8.72      18.24      22.17      28.28      33.19  \n",
       "4010     -92.64      87.22      87.86      74.92      42.62  \n",
       "1011     -35.49     -35.49      -0.50      29.55      84.00  \n",
       "3955      -2.53       1.24       3.69       2.38      -4.67  \n",
       "\n",
       "[5 rows x 3197 columns]"
      ]
     },
     "execution_count": 4,
     "metadata": {},
     "output_type": "execute_result"
    }
   ],
   "source": [
    "# Remove rows with missing target, separate target from predictors\n",
    "X_full.dropna(axis=0, subset=['LABEL'], inplace=True)\n",
    "y = X_full.LABEL\n",
    "X_full.drop(['LABEL'], axis=1, inplace=True)\n",
    "\n",
    "\n",
    "# Break off validation set from training data\n",
    "X_train_full, X_valid_full, y_train, y_valid = train_test_split(X_full, y, \n",
    "                                                                train_size=0.8, test_size=0.2,\n",
    "                                                                random_state=0)\n",
    "X_train_full.head()"
   ]
  },
  {
   "cell_type": "markdown",
   "metadata": {
    "_uuid": "3e03e00f593729a6fb36841cde640a0cb366bf4f"
   },
   "source": [
    "## Preprocess Data"
   ]
  },
  {
   "cell_type": "code",
   "execution_count": 5,
   "metadata": {
    "_uuid": "504e0ecddfafc27cdf49022f2950566373c0d6fe",
    "execution": {
     "iopub.execute_input": "2023-03-23T03:21:24.677283Z",
     "iopub.status.busy": "2023-03-23T03:21:24.676998Z",
     "iopub.status.idle": "2023-03-23T03:21:27.390821Z",
     "shell.execute_reply": "2023-03-23T03:21:27.389877Z",
     "shell.execute_reply.started": "2023-03-23T03:21:24.677228Z"
    }
   },
   "outputs": [
    {
     "name": "stdout",
     "output_type": "stream",
     "text": [
      "X_train.shape:  (4069, 3197)\n",
      "X_valid.shape:  (1018, 3197)\n"
     ]
    }
   ],
   "source": [
    "# Preprocessing for numerical data\n",
    "imputer= SimpleImputer(strategy='median')\n",
    "imputer.fit(X_train_full)\n",
    "\n",
    "X_train_full= pd.DataFrame(imputer.transform(X_train_full))\n",
    "X_valid_full= pd.DataFrame(imputer.transform(X_valid_full))\n",
    "\n",
    "print(\"X_train.shape: \", X_train_full.shape)\n",
    "print(\"X_valid.shape: \", X_valid_full.shape)\n"
   ]
  },
  {
   "cell_type": "markdown",
   "metadata": {
    "execution": {
     "iopub.execute_input": "2023-03-23T02:39:09.699710Z",
     "iopub.status.busy": "2023-03-23T02:39:09.699397Z",
     "iopub.status.idle": "2023-03-23T02:39:09.702804Z",
     "shell.execute_reply": "2023-03-23T02:39:09.702126Z",
     "shell.execute_reply.started": "2023-03-23T02:39:09.699652Z"
    }
   },
   "source": [
    "## Data Processor"
   ]
  },
  {
   "cell_type": "code",
   "execution_count": 10,
   "metadata": {
    "_uuid": "87e08df975d26a6d05feb1005931fa20ad450fde",
    "execution": {
     "iopub.execute_input": "2023-03-23T03:21:27.392794Z",
     "iopub.status.busy": "2023-03-23T03:21:27.392241Z",
     "iopub.status.idle": "2023-03-23T03:21:27.434915Z",
     "shell.execute_reply": "2023-03-23T03:21:27.433919Z",
     "shell.execute_reply.started": "2023-03-23T03:21:27.392735Z"
    }
   },
   "outputs": [],
   "source": [
    "class LightFluxProcessor:\n",
    "\n",
    "    def __init__(self, fourier=True, normalize=True, gaussian=True, standardize=True):\n",
    "        self.normalize = normalize\n",
    "        self.gaussian = gaussian\n",
    "        self.standardize = standardize\n",
    "\n",
    "    def fourier_transform(self, X):\n",
    "        return np.abs(fft(X, n=X.size))\n",
    "\n",
    "    def process(self, df_train_x, df_valid_x):\n",
    "        \n",
    "        # Normalize\n",
    "        if self.normalize:\n",
    "            print(\"Normalizing Dataset\")\n",
    "            df_train_x = pd.DataFrame(normalize(df_train_x))\n",
    "            df_valid_x = pd.DataFrame(normalize(df_valid_x))\n",
    "\n",
    "        # Gaussian filter to smooth out data\n",
    "        if self.gaussian:\n",
    "            print(\"Applying Gaussian Filter...\")\n",
    "            df_train_x = ndimage.gaussian_filter(df_train_x, sigma=10)\n",
    "            df_valid_x = ndimage.gaussian_filter(df_valid_x, sigma=10)\n",
    "\n",
    "        if self.standardize:\n",
    "            # Standardize X data\n",
    "            print(\"Standardizing...\")\n",
    "            std_scaler = StandardScaler()\n",
    "            df_train_x = std_scaler.fit_transform(df_train_x)\n",
    "            df_valid_x = std_scaler.transform(df_valid_x)\n",
    "\n",
    "        return df_train_x, df_valid_x\n"
   ]
  },
  {
   "cell_type": "code",
   "execution_count": 11,
   "metadata": {
    "_uuid": "90a0ea43b0ef441d5ff094adec4d6a1e2030ab58",
    "execution": {
     "iopub.execute_input": "2023-03-23T03:21:27.503480Z",
     "iopub.status.busy": "2023-03-23T03:21:27.503180Z",
     "iopub.status.idle": "2023-03-23T03:21:30.499379Z"
    }
   },
   "outputs": [
    {
     "name": "stdout",
     "output_type": "stream",
     "text": [
      "Normalizing Dataset\n",
      "Applying Gaussian Filter...\n",
      "Standardizing...\n",
      "Size after processing\n",
      "X_train.shape:  (4069, 3197)\n",
      "X_valid.shape:  (1018, 3197)\n"
     ]
    }
   ],
   "source": [
    "# Process dataset\n",
    "LFP = LightFluxProcessor(\n",
    "    fourier=False,\n",
    "    normalize=True,\n",
    "    gaussian=True,\n",
    "    standardize=True)\n",
    "X_train, X_valid = LFP.process(X_train_full, X_valid_full)\n",
    "print(\"Size after processing\")\n",
    "print(\"X_train.shape: \", X_train.shape)\n",
    "print(\"X_valid.shape: \", X_valid.shape)"
   ]
  },
  {
   "cell_type": "markdown",
   "metadata": {
    "_uuid": "b4783cdb1902414c346e39c709b5619788e4b748"
   },
   "source": [
    "## Build Model, Train, and Predict"
   ]
  },
  {
   "cell_type": "code",
   "execution_count": 12,
   "metadata": {
    "execution": {
     "iopub.execute_input": "2023-03-23T03:21:30.500679Z",
     "iopub.status.busy": "2023-03-23T03:21:30.500410Z"
    }
   },
   "outputs": [],
   "source": [
    "# Define model\n",
    "model = RandomForestClassifier(n_estimators=100, random_state=0)\n",
    "\n",
    "\n",
    "model.fit(X_train, y_train)\n",
    "y_pred = model.predict(X_valid)"
   ]
  },
  {
   "cell_type": "markdown",
   "metadata": {
    "_uuid": "1d89125e42171a7bfda48da4313b92ca0b04d866"
   },
   "source": [
    "## Calculate and Display Metrics"
   ]
  },
  {
   "cell_type": "code",
   "execution_count": 13,
   "metadata": {
    "_uuid": "1b8f75a0a1976000bc34e71a65c512d124825097"
   },
   "outputs": [
    {
     "name": "stdout",
     "output_type": "stream",
     "text": [
      "Accuracy: 0.9921414538310412\n",
      "Precision: 0.9921414538310412\n",
      "Recall: 1.0\n"
     ]
    }
   ],
   "source": [
    "accuracy = accuracy_score(y_valid, y_pred)\n",
    "precision = precision_score(y_valid, y_pred)\n",
    "recall = recall_score(y_valid, y_pred)\n",
    "\n",
    "print(\"Accuracy:\", accuracy)\n",
    "print(\"Precision:\", precision)\n",
    "print(\"Recall:\", recall)\n"
   ]
  },
  {
   "cell_type": "markdown",
   "metadata": {},
   "source": [
    "## Hyperparamter Tuning\n",
    "\n",
    "We use Scikit-Learn’s RandomizedSearchCV, which will randomly search parameters within a range per hyperparameter."
   ]
  },
  {
   "cell_type": "code",
   "execution_count": null,
   "metadata": {
    "execution": {
     "iopub.execute_input": "2023-03-23T03:07:51.729711Z",
     "iopub.status.busy": "2023-03-23T03:07:51.729388Z",
     "iopub.status.idle": "2023-03-23T03:09:36.045671Z",
     "shell.execute_reply": "2023-03-23T03:09:36.044907Z",
     "shell.execute_reply.started": "2023-03-23T03:07:51.729655Z"
    }
   },
   "outputs": [],
   "source": [
    "param_dist = {'n_estimators': randint(50,500),\n",
    "              'max_depth': randint(1,20)}\n",
    "\n",
    "# Create a random forest classifier\n",
    "model = RandomForestClassifier()\n",
    "\n",
    "# Use random search to find the best hyperparameters\n",
    "rand_search = RandomizedSearchCV(model, \n",
    "                                 param_distributions = param_dist, \n",
    "                                 n_iter=5, \n",
    "                                 cv=5)\n",
    "\n",
    "# Fit the random search object to the data\n",
    "rand_search.fit(X_train, y_train)"
   ]
  },
  {
   "cell_type": "markdown",
   "metadata": {},
   "source": [
    "RandomizedSearchCV will train many models (defined by n_iter_ and save each one as variables, the code below creates a variable for the best model and prints the hyperparameters."
   ]
  },
  {
   "cell_type": "code",
   "execution_count": null,
   "metadata": {
    "execution": {
     "iopub.execute_input": "2023-03-23T03:17:28.131925Z",
     "iopub.status.busy": "2023-03-23T03:17:28.131632Z",
     "iopub.status.idle": "2023-03-23T03:17:28.156130Z",
     "shell.execute_reply": "2023-03-23T03:17:28.155245Z",
     "shell.execute_reply.started": "2023-03-23T03:17:28.131889Z"
    }
   },
   "outputs": [],
   "source": [
    "# Create a variable for the best model\n",
    "best_model = rand_search.best_estimator_\n",
    "\n",
    "# Print the best hyperparameters\n",
    "print('Best hyperparameters:',  rand_search.best_params_)\n",
    "\n",
    "# Generate predictions with the best model\n",
    "y_pred = best_model.predict(X_valid)\n",
    "np.shape(y_pred)"
   ]
  },
  {
   "cell_type": "code",
   "execution_count": null,
   "metadata": {
    "execution": {
     "iopub.execute_input": "2023-03-23T03:17:32.155820Z",
     "iopub.status.busy": "2023-03-23T03:17:32.155453Z",
     "iopub.status.idle": "2023-03-23T03:17:32.167282Z",
     "shell.execute_reply": "2023-03-23T03:17:32.166405Z",
     "shell.execute_reply.started": "2023-03-23T03:17:32.155727Z"
    }
   },
   "outputs": [],
   "source": [
    "accuracy = accuracy_score(y_valid, y_pred)\n",
    "precision = precision_score(y_valid, y_pred)\n",
    "recall = recall_score(y_valid, y_pred)\n",
    "\n",
    "print(\"Accuracy:\", accuracy)\n",
    "print(\"Precision:\", precision)\n",
    "print(\"Recall:\", recall)"
   ]
  },
  {
   "cell_type": "code",
   "execution_count": null,
   "metadata": {},
   "outputs": [],
   "source": []
  }
 ],
 "metadata": {
  "kernelspec": {
   "display_name": "Python 3 (ipykernel)",
   "language": "python",
   "name": "python3"
  },
  "language_info": {
   "codemirror_mode": {
    "name": "ipython",
    "version": 3
   },
   "file_extension": ".py",
   "mimetype": "text/x-python",
   "name": "python",
   "nbconvert_exporter": "python",
   "pygments_lexer": "ipython3",
   "version": "3.8.5"
  }
 },
 "nbformat": 4,
 "nbformat_minor": 4
}
